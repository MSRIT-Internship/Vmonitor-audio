{
 "cells": [
  {
   "cell_type": "markdown",
   "metadata": {},
   "source": [
    "## File I/O piplines"
   ]
  },
  {
   "cell_type": "markdown",
   "metadata": {},
   "source": [
    "### Imports and Directory loading"
   ]
  },
  {
   "cell_type": "code",
   "execution_count": 1,
   "metadata": {},
   "outputs": [],
   "source": [
    "import pathlib\n",
    "import numpy as np\n",
    "import librosa as rosa"
   ]
  },
  {
   "cell_type": "code",
   "execution_count": 2,
   "metadata": {},
   "outputs": [],
   "source": [
    "fileiocheck = False\n",
    "working_dir = ''\n",
    "sub_dirs = []\n",
    "paths = []\n",
    "def load_dirs(tree:str) -> None:\n",
    "    global working_dir,sub_dirs,paths\n",
    "    if tree==\"dev\":\n",
    "        working_dir = \"sampling/\"\n",
    "        sub_dirs = []\n",
    "        paths = [pathlib.Path(working_dir)]\n",
    "    elif tree==\"prod\":\n",
    "        working_dir = \"audio/\"\n",
    "        sub_dirs = ['discomfort','hunger','pain']\n",
    "        paths  = [pathlib.Path(working_dir+dir) for dir in sub_dirs]"
   ]
  },
  {
   "cell_type": "code",
   "execution_count": 3,
   "metadata": {},
   "outputs": [],
   "source": [
    "# print(paths)"
   ]
  },
  {
   "cell_type": "markdown",
   "metadata": {},
   "source": [
    "### AudIO Classes"
   ]
  },
  {
   "cell_type": "code",
   "execution_count": 4,
   "metadata": {},
   "outputs": [],
   "source": [
    "from audio import AudIO"
   ]
  },
  {
   "cell_type": "markdown",
   "metadata": {},
   "source": [
    "### Basic tests"
   ]
  },
  {
   "cell_type": "code",
   "execution_count": 5,
   "metadata": {},
   "outputs": [
    {
     "name": "stdout",
     "output_type": "stream",
     "text": [
      "Warning: Failed to load audio\\discomfort\\HFDB19R3.wav in audio\\discomfort\n",
      "Warning: Failed to load audio\\discomfort\\HFDB54R10.wav in audio\\discomfort\n",
      "Warning: Failed to load audio\\discomfort\\HFDB54R9.wav in audio\\discomfort\n",
      "Warning: Failed to load audio\\discomfort\\LFDB10R6.wav in audio\\discomfort\n",
      "Warning: Failed to load audio\\discomfort\\LFDB10R9.wav in audio\\discomfort\n",
      "Warning: Failed to load audio\\discomfort\\LFDB9R12.wav in audio\\discomfort\n",
      "Warning: Failed to load audio\\discomfort\\LFDB9R2.wav in audio\\discomfort\n",
      "Warning: Failed to load audio\\discomfort\\LFDB9R4.wav in audio\\discomfort\n",
      "Warning: Failed to load audio\\discomfort\\LFDB9R5.wav in audio\\discomfort\n",
      "Warning: Failed to load audio\\discomfort\\LFDB9R7.wav in audio\\discomfort\n",
      "Warning: Failed to load audio\\hunger\\HFHB54R1.wav in audio\\hunger\n",
      "Warning: Failed to load audio\\hunger\\HFHB54R17.wav in audio\\hunger\n",
      "Warning: Failed to load audio\\hunger\\HFHB54R18.wav in audio\\hunger\n",
      "Warning: Failed to load audio\\hunger\\HFHB54R19.wav in audio\\hunger\n",
      "Warning: Failed to load audio\\hunger\\HFHB54R20.wav in audio\\hunger\n",
      "Warning: Failed to load audio\\hunger\\LFHB7R1.wav in audio\\hunger\n",
      "Warning: Failed to load audio\\hunger\\LFHB7R3.wav in audio\\hunger\n",
      "Warning: Failed to load audio\\hunger\\LFHB7R4.wav in audio\\hunger\n",
      "Warning: Failed to load audio\\hunger\\LFHB7R5.wav in audio\\hunger\n",
      "Warning: Failed to load audio\\hunger\\LFHB7R6.wav in audio\\hunger\n",
      "Warning: Failed to load audio\\pain\\HFPB54R16.wav in audio\\pain\n",
      "Warning: Failed to load audio\\pain\\HFPB54R2.wav in audio\\pain\n",
      "Warning: Failed to load audio\\pain\\HFPB54R3.wav in audio\\pain\n",
      "Warning: Failed to load audio\\pain\\HFPB54R4.wav in audio\\pain\n",
      "Warning: Failed to load audio\\pain\\HFPB54R5.wav in audio\\pain\n",
      "Warning: Failed to load audio\\pain\\HFPB54R6.wav in audio\\pain\n",
      "Warning: Failed to load audio\\pain\\HMPB4R1.wav in audio\\pain\n",
      "Warning: Failed to load audio\\pain\\LFPB53R8.wav in audio\\pain\n",
      "Warning: Failed to load audio\\pain\\LMPB1R2.wav in audio\\pain\n",
      "Warning: Failed to load audio\\pain\\LMPB1R3.wav in audio\\pain\n",
      "[]\n"
     ]
    }
   ],
   "source": [
    "load_dirs(tree=\"prod\")\n",
    "aio = AudIO(paths=paths)\n",
    "audios = aio.getAllAudios()\n",
    "print(audios)"
   ]
  },
  {
   "cell_type": "code",
   "execution_count": 6,
   "metadata": {},
   "outputs": [
    {
     "name": "stdout",
     "output_type": "stream",
     "text": [
      "Warning: Failed to load sampling\\LMPB1R3.wav in sampling\n",
      "[]\n"
     ]
    }
   ],
   "source": [
    "load_dirs(tree=\"dev\")\n",
    "aio = AudIO(paths=paths)\n",
    "audios = aio.getAllAudios()\n",
    "print(audios)"
   ]
  },
  {
   "cell_type": "code",
   "execution_count": 7,
   "metadata": {},
   "outputs": [],
   "source": [
    "fileiocheck = True"
   ]
  },
  {
   "cell_type": "markdown",
   "metadata": {},
   "source": [
    "## Note: The Basic Pipline is ready:\n",
    "\n",
    "### Follow these steps to load the audio files\n",
    "\n",
    "- call the function `load_dirs(tree)` where you can use `prod` to get all audios or `dev` to use audios listed under `sampling` folder\n",
    "- create `AudIO` obj pass `paths` variable (its been declared in FileIO in global scope)\n",
    "- call `AudIO.getAllAudios()` to get a list of tuples `(y, sr)`\n",
    "\n",
    "> y: np.ndarray [shape=(n,) or (…, n)]\n",
    "> audio time series. Multi-channel is supported.\n",
    "> \n",
    "> sr: number > 0 [scalar]\n",
    "> sampling rate of y\n",
    "\n",
    "### vars in global scope that can be used:\n",
    "- paths -> paths to available audios\n",
    "- audios -> paths to avaiable loaded audios"
   ]
  },
  {
   "cell_type": "markdown",
   "metadata": {},
   "source": [
    "## MelSpectrumIO pipline"
   ]
  },
  {
   "cell_type": "markdown",
   "metadata": {},
   "source": [
    "### Imports"
   ]
  },
  {
   "cell_type": "code",
   "execution_count": 8,
   "metadata": {},
   "outputs": [],
   "source": [
    "import librosa as rosa\n",
    "import matplotlib.pyplot as plt\n",
    "import numpy as np\n",
    "\n",
    "if not fileiocheck:\n",
    "    raise Exception(BrokenPipeError(\"FileIO pipeline wasn't excecuted or failed the tests\"))\n",
    "\n",
    "\n",
    "\n",
    "\n"
   ]
  },
  {
   "cell_type": "code",
   "execution_count": null,
   "metadata": {},
   "outputs": [],
   "source": []
  },
  {
   "cell_type": "markdown",
   "metadata": {},
   "source": [
    "### MSIO classes"
   ]
  },
  {
   "cell_type": "markdown",
   "metadata": {},
   "source": [
    "### Basic Tests"
   ]
  }
 ],
 "metadata": {
  "kernelspec": {
   "display_name": "Python 3",
   "language": "python",
   "name": "python3"
  },
  "language_info": {
   "codemirror_mode": {
    "name": "ipython",
    "version": 3
   },
   "file_extension": ".py",
   "mimetype": "text/x-python",
   "name": "python",
   "nbconvert_exporter": "python",
   "pygments_lexer": "ipython3",
   "version": "3.12.2"
  }
 },
 "nbformat": 4,
 "nbformat_minor": 2
}
