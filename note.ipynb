{
 "cells": [
  {
   "cell_type": "markdown",
   "metadata": {},
   "source": [
    "## File I/O piplines"
   ]
  },
  {
   "cell_type": "markdown",
   "metadata": {},
   "source": [
    "### Imports and Directory loading"
   ]
  },
  {
   "cell_type": "code",
   "execution_count": 28,
   "metadata": {},
   "outputs": [],
   "source": [
    "import pathlib\n",
    "import numpy as np\n",
    "import librosa as rosa"
   ]
  },
  {
   "cell_type": "code",
   "execution_count": 29,
   "metadata": {},
   "outputs": [],
   "source": [
    "working_dir = ''\n",
    "sub_dirs = []\n",
    "paths = []\n",
    "def load_dirs(tree:str) -> None:\n",
    "    global working_dir,sub_dirs,paths\n",
    "    if tree==\"dev\":\n",
    "        working_dir = \"sampling/\"\n",
    "        sub_dirs = []\n",
    "        paths = [pathlib.Path(working_dir)]\n",
    "    elif tree==\"prod\":\n",
    "        working_dir = \"audio/\"\n",
    "        sub_dirs = ['discomfort','hunger','pain']\n",
    "        paths  = [pathlib.Path(working_dir+dir) for dir in sub_dirs]"
   ]
  },
  {
   "cell_type": "code",
   "execution_count": 30,
   "metadata": {},
   "outputs": [],
   "source": [
    "# print(paths)"
   ]
  },
  {
   "cell_type": "markdown",
   "metadata": {},
   "source": [
    "### AudIO Classes"
   ]
  },
  {
   "cell_type": "code",
   "execution_count": 32,
   "metadata": {},
   "outputs": [],
   "source": [
    "from audio import AudIO"
   ]
  },
  {
   "cell_type": "markdown",
   "metadata": {},
   "source": [
    "### Basic tests"
   ]
  },
  {
   "cell_type": "code",
   "execution_count": 33,
   "metadata": {},
   "outputs": [
    {
     "name": "stdout",
     "output_type": "stream",
     "text": [
      "[(array([-0.13064878, -0.17508066, -0.12394266, ..., -0.02248435,\n",
      "       -0.04537858, -0.03746901], dtype=float32), 22050), (array([ 0.03939373,  0.0601788 ,  0.0495783 , ..., -0.01272201,\n",
      "       -0.01395789, -0.00883116], dtype=float32), 22050), (array([0.17617908, 0.37023246, 0.46158892, ..., 0.03994034, 0.04031325,\n",
      "       0.02263961], dtype=float32), 22050), (array([-0.02708368, -0.04876096, -0.0825662 , ..., -0.01657588,\n",
      "       -0.0125604 , -0.00529859], dtype=float32), 22050), (array([-0.02731055, -0.04533367, -0.0485687 , ..., -0.00110541,\n",
      "       -0.0050378 ,  0.00219741], dtype=float32), 22050), (array([ 0.03183655,  0.06648411,  0.08384795, ..., -0.00329806,\n",
      "       -0.00341501, -0.00302807], dtype=float32), 22050), (array([ 0.0280803 ,  0.04545665,  0.03263286, ..., -0.00220236,\n",
      "       -0.01191372, -0.01568297], dtype=float32), 22050), (array([ 0.02753239,  0.03066151,  0.0092322 , ..., -0.00324639,\n",
      "       -0.02324604, -0.05107165], dtype=float32), 22050), (array([-0.02323911, -0.03233995, -0.02350015, ..., -0.05520211,\n",
      "       -0.04900819, -0.04575604], dtype=float32), 22050), (array([ 0.08910049,  0.11723736,  0.11454027, ...,  0.04717757,\n",
      "       -0.0649368 , -0.23439106], dtype=float32), 22050), (array([-0.15104613, -0.14098127,  0.00051248, ..., -0.0618799 ,\n",
      "       -0.0490181 , -0.04386085], dtype=float32), 22050), (array([-0.02723731, -0.0361223 , -0.02479589, ...,  0.02488296,\n",
      "        0.03004465,  0.02789721], dtype=float32), 22050), (array([-0.02168059, -0.02516536, -0.01919359, ...,  0.04178072,\n",
      "        0.04001644,  0.04387902], dtype=float32), 22050), (array([-0.02269362, -0.02437151,  0.00397125, ...,  0.00750522,\n",
      "        0.00247717, -0.00212988], dtype=float32), 22050), (array([0.15878223, 0.25487489, 0.22684823, ..., 0.02967564, 0.03164316,\n",
      "       0.01685636], dtype=float32), 22050), (array([ 0.04679988,  0.08088584,  0.08348858, ...,  0.01004099,\n",
      "        0.00208429, -0.00459646], dtype=float32), 22050), (array([ 0.0510163 ,  0.0421885 , -0.00269699, ..., -0.17701434,\n",
      "       -0.18120508, -0.20092967], dtype=float32), 22050), (array([ 0.05101019,  0.04219738, -0.00270244, ..., -0.17700395,\n",
      "       -0.18121114, -0.20091827], dtype=float32), 22050), (array([ 0.00502679,  0.00600566,  0.00281945, ...,  0.00212675,\n",
      "        0.00212273, -0.00512347], dtype=float32), 22050), (array([-0.02013845, -0.0237963 , -0.01089117, ..., -0.03155453,\n",
      "       -0.02927396, -0.01931304], dtype=float32), 22050), (array([ 0.03860322,  0.05459674,  0.04096742, ..., -0.06387705,\n",
      "       -0.07667491, -0.05184101], dtype=float32), 22050), (array([ 0.00043716, -0.00807738, -0.0188779 , ..., -0.01402742,\n",
      "       -0.04749428, -0.10096651], dtype=float32), 22050), (array([-0.03692918, -0.04174347, -0.0197409 , ...,  0.04190345,\n",
      "        0.03012575,  0.00905286], dtype=float32), 22050), (array([ 0.02024157,  0.02869709,  0.0220777 , ..., -0.05375186,\n",
      "       -0.06669018, -0.04688594], dtype=float32), 22050), (array([-0.03147472, -0.03358972, -0.01818249, ..., -0.02556407,\n",
      "       -0.04007427, -0.06480576], dtype=float32), 22050), (array([-0.05075452, -0.06943484, -0.0744208 , ...,  0.05027492,\n",
      "        0.0531651 ,  0.05738875], dtype=float32), 22050), (array([0.00053418, 0.00409289, 0.00829219, ..., 0.02001551, 0.0245471 ,\n",
      "       0.03261233], dtype=float32), 22050), (array([ 0.03364813,  0.0264344 , -0.00470455, ..., -0.06574647,\n",
      "       -0.09756891, -0.07351914], dtype=float32), 22050), (array([ 0.01082975, -0.00104933, -0.03068083, ...,  0.00376114,\n",
      "        0.00213961,  0.00171965], dtype=float32), 22050), (array([0.05001208, 0.07300287, 0.07227496, ..., 0.03721377, 0.03015154,\n",
      "       0.02150325], dtype=float32), 22050)]\n"
     ]
    }
   ],
   "source": [
    "load_dirs(tree=\"prod\")\n",
    "aio = AudIO(paths=paths)\n",
    "audios = aio.getAllAudios()\n",
    "print(audios)"
   ]
  },
  {
   "cell_type": "code",
   "execution_count": 34,
   "metadata": {},
   "outputs": [
    {
     "name": "stdout",
     "output_type": "stream",
     "text": [
      "[(array([0.05001208, 0.07300287, 0.07227496, ..., 0.03721377, 0.03015154,\n",
      "       0.02150325], dtype=float32), 22050)]\n"
     ]
    }
   ],
   "source": [
    "load_dirs(tree=\"dev\")\n",
    "aio = AudIO(paths=paths)\n",
    "audios = aio.getAllAudios()\n",
    "print(audios)"
   ]
  },
  {
   "cell_type": "markdown",
   "metadata": {},
   "source": [
    "# Note: The Basic Pipline is ready:\n",
    "\n",
    "## Follow these steps to load the audio files"
   ]
  }
 ],
 "metadata": {
  "kernelspec": {
   "display_name": "Python 3",
   "language": "python",
   "name": "python3"
  },
  "language_info": {
   "codemirror_mode": {
    "name": "ipython",
    "version": 3
   },
   "file_extension": ".py",
   "mimetype": "text/x-python",
   "name": "python",
   "nbconvert_exporter": "python",
   "pygments_lexer": "ipython3",
   "version": "3.12.2"
  }
 },
 "nbformat": 4,
 "nbformat_minor": 2
}
